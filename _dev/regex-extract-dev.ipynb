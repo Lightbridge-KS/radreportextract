{
 "cells": [
  {
   "cell_type": "markdown",
   "metadata": {},
   "source": [
    "# Rads report regex extract"
   ]
  },
  {
   "cell_type": "code",
   "execution_count": 1,
   "metadata": {},
   "outputs": [],
   "source": [
    "from pyhere import here\n",
    "import sys\n",
    "import os\n",
    "import re\n",
    "\n",
    "sys.path.append(os.path.abspath('..')) # adding the absolute path\n",
    "\n",
    "from radreportextract import ReportRegexExtractor"
   ]
  },
  {
   "cell_type": "code",
   "execution_count": 2,
   "metadata": {},
   "outputs": [],
   "source": [
    "ext = ReportRegexExtractor()"
   ]
  },
  {
   "cell_type": "markdown",
   "metadata": {},
   "source": [
    "## Extract History"
   ]
  },
  {
   "cell_type": "code",
   "execution_count": 3,
   "metadata": {},
   "outputs": [
    {
     "name": "stdout",
     "output_type": "stream",
     "text": [
      "((history|indication).*?)(?=\\b(?:technique|comparison|finding|impression|$)|[\\n\\t]+)\n",
      "History: MALT lymphoma at the right orbit S/P chemotherapy was sent to follow-up.\n",
      "history: MALT lymphoma at the right orbit S/P chemotherapy was sent to follow-up.\n",
      "Indication: A 58-year-old man, known case of nasopharyngeal cancer (T4N2M1) with lung metastasis\n",
      "Indications: A 58-year-old man, known case of nasopharyngeal cancer (T4N2M1).\n",
      "No Match\n"
     ]
    }
   ],
   "source": [
    "text_hx_1 = \"\"\"\n",
    "MRI OF THE BRAIN AND ORBITS \n",
    "\n",
    "History: MALT lymphoma at the right orbit S/P chemotherapy was sent to follow-up. \n",
    "\n",
    "Technique: \n",
    "Sagittal SE T1W \n",
    "3D FSE FLAIR FS +Gd with MPR \n",
    "\n",
    "Comparison: Limited comparison to the MRI brain on 4-6-2022 \n",
    "\"\"\"\n",
    "\n",
    "# No Next Section KeyWord\n",
    "text_hx_2 = \"\"\"\n",
    "MRI OF THE BRAIN AND ORBITS \n",
    "\n",
    "history: MALT lymphoma at the right orbit S/P chemotherapy was sent to follow-up. \n",
    "\n",
    "Sagittal SE T1W \n",
    "\"\"\"\n",
    "\n",
    "# No Newline\n",
    "text_hx_3 = \"\"\"\n",
    "MDCT OF THE NECK   Indication: A 58-year-old man, known case of nasopharyngeal cancer (T4N2M1) with lung metastasis   Technique: Post contrast enhanced axial scan of the neck using 1.0 mm slice thickness with 3.0 mm axial, coronal and sagittal reformation   Comparison: The prior CT of the neck taken on October 4, 2015   Findings:  \tThe current study reveals slight shrinkage but no significant change in extension of the preexisting ill-defined hypodense lesion with partial mild enhancement in some portions, epicenter at the left-sided nasopharynx. Extension of the lesion is described as follow;  ... Superior: No interval change of extension into the left foramen Ovale and left inferior orbital fissure. No significant change of few enhancing foci in the left inferior temporal lobe.  ... Anterior: Involvement of the left infratemporal fossa, left PPF, left retroantral space, and left masticator space. Erosion and sclerotic change of the left pterygoid bone and posterior wall of the left maxillary sinus, unchanged.\n",
    "\"\"\"\n",
    "\n",
    "# No Newline and Next Section KeyWord\n",
    "text_hx_4 = \"\"\"\n",
    "Indications: A 58-year-old man, known case of nasopharyngeal cancer (T4N2M1).\n",
    "\"\"\"\n",
    "\n",
    "# No History or Indication\n",
    "text_hx_5 = \"\"\"\n",
    "A 58-year-old man, known case of nasopharyngeal cancer (T4N2M1).\n",
    "\"\"\"\n",
    "\n",
    "# No History or Indication with end pattern \n",
    "text_hx_6 = \"\"\"\n",
    "A 58-year-old man, known case of nasopharyngeal cancer (T4N2M1).\n",
    "\n",
    "technique:\n",
    "\"\"\"\n",
    "\n",
    "# No History or Indication with no end pattern \n",
    "text_hx_7 = \"\"\"Some key: A 58-year-old man, known case of nasopharyngeal cancer (T4N2M1).\"\"\"\n",
    "\n",
    "# This pattern ensures that it captures the \"History\" section and stops when it encounters another major section header or the end of the text.\n",
    "# `|[\\n\\t]+`: Fallback logic, if none of the section headers are found, the match will stop at one or more consecutive newlines or tab characters\n",
    "# pattern = r\"((history|indication).*?)(?=\\b(?:technique|findings|comparison|impression|$)|[\\n\\t]+)\"\n",
    "\n",
    "start_key = [\"history\", \"indication\"]\n",
    "end_key = [\"technique\", \"comparison\", \"finding\", \"impression\"]\n",
    "\n",
    "pattern = fr\"(({\"|\".join(start_key)}).*?)(?=\\b(?:{\"|\".join(end_key)}|$)|[\\n\\t]+)\"\n",
    "# pattern = r\"(^.*)(?=\\b(?:technique|findings|comparison|impression|$)|[\\n\\t]+)\"\n",
    "print(pattern)\n",
    "\n",
    "# Extract the \"History\" section\n",
    "\n",
    "## 1. Simple\n",
    "match = re.search(pattern, text_hx_1, re.DOTALL | re.IGNORECASE)\n",
    "print(match.group(0).strip())\n",
    "\n",
    "## 2. No Next Section KeyWord\n",
    "match = re.search(pattern, text_hx_2, re.DOTALL | re.IGNORECASE)\n",
    "print(match.group(0).strip())\n",
    "\n",
    "\n",
    "## 3. No Newline\n",
    "match = re.search(pattern, text_hx_3, re.DOTALL | re.IGNORECASE)\n",
    "print(match.group(0).strip())\n",
    "\n",
    "## 4. No Newline and Next Section KeyWord\n",
    "match = re.search(pattern, text_hx_4, re.DOTALL | re.IGNORECASE)\n",
    "print(match.group(0).strip())\n",
    "\n",
    "## 5. No Newline and Next Section KeyWord\n",
    "match = re.search(pattern, text_hx_5, re.DOTALL | re.IGNORECASE)\n",
    "if match:\n",
    "    print(match.group(0).strip())\n",
    "else:\n",
    "    print(\"No Match\")"
   ]
  },
  {
   "cell_type": "code",
   "execution_count": 4,
   "metadata": {},
   "outputs": [
    {
     "name": "stdout",
     "output_type": "stream",
     "text": [
      "['history', 'indication']\n",
      "['history', 'history', 'indication', 'indication', 'indication']\n"
     ]
    }
   ],
   "source": [
    "# Whole Word vs Regex\n",
    "\n",
    "match = re.findall(r\"\\b(history|indication)\\b\", \" history: historyclub indication indications indicationclub\", re.DOTALL | re.IGNORECASE)\n",
    "print(match)\n",
    "\n",
    "match = re.findall(r\"(history|indication)\", \" history: historyclub indication indications indicationclub\", re.DOTALL | re.IGNORECASE)\n",
    "print(match)"
   ]
  },
  {
   "cell_type": "code",
   "execution_count": 5,
   "metadata": {},
   "outputs": [
    {
     "data": {
      "text/plain": [
       "['A', 'B', 'As', 'Bs']"
      ]
     },
     "execution_count": 5,
     "metadata": {},
     "output_type": "execute_result"
    }
   ],
   "source": [
    "[\"A\", \"B\"] + [ x + \"s\" for x in [\"A\", \"B\"]]"
   ]
  },
  {
   "cell_type": "markdown",
   "metadata": {},
   "source": [
    "- `start_key`: \"history\" or \"indication\"\n",
    "- `end_key`: \"technique\", \"comparison\", \"finding\", \"impression\"\n",
    "- `end_char`: `\\n` or `\\t`\n",
    "\n",
    "1. If there is `start_key`, match the input text until found (which ever comes first) `end_key`, `end_char`, or the end of text string.\n",
    "2. If there is no `start_key`, match from the beginning of input text until found (which ever comes first) `end_key`, `end_char`, or the end of text string."
   ]
  },
  {
   "cell_type": "code",
   "execution_count": 8,
   "metadata": {},
   "outputs": [
    {
     "name": "stdout",
     "output_type": "stream",
     "text": [
      "History: MALT lymphoma at the right orbit S/P chemotherapy was sent to follow-up.\n",
      "history: MALT lymphoma at the right orbit S/P chemotherapy was sent to follow-up.\n",
      "Indication: A 58-year-old man, known case of nasopharyngeal cancer (T4N2M1) with lung metastasis\n",
      "Indications: A 58-year-old man, known case of nasopharyngeal cancer (T4N2M1).\n",
      "\n",
      "Non-Strick Mode\n",
      "A 58-year-old man, known case of nasopharyngeal cancer (T4N2M1)\n",
      "A 58-year-old man, known case of nasopharyngeal cancer (T4N2M1).\n",
      "Some key: A 58-year-old man, known case of nasopharyngeal cancer (T4N2M1)\n"
     ]
    }
   ],
   "source": [
    "print(ext.extract_hx(text_hx_1))\n",
    "print(ext.extract_hx(text_hx_2))\n",
    "print(ext.extract_hx(text_hx_3))\n",
    "print(ext.extract_hx(text_hx_4))\n",
    "\n",
    "# Strick Mode\n",
    "assert ext.extract_hx(text_hx_5) == \"\"\n",
    "assert ext.extract_hx(text_hx_6) == \"\"\n",
    "assert ext.extract_hx(text_hx_7) == \"\"\n",
    "\n",
    "\n",
    "# Non-Strick Mode\n",
    "print(\"\\nNon-Strick Mode\")\n",
    "print(ext.extract_hx(text_hx_5, strick = False))\n",
    "print(ext.extract_hx(text_hx_6, strick = False))\n",
    "print(ext.extract_hx(text_hx_7, strick = False))"
   ]
  },
  {
   "cell_type": "markdown",
   "metadata": {},
   "source": [
    "## Extract Impression"
   ]
  },
  {
   "cell_type": "markdown",
   "metadata": {},
   "source": []
  },
  {
   "cell_type": "code",
   "execution_count": 7,
   "metadata": {},
   "outputs": [
    {
     "ename": "TypeError",
     "evalue": "ReportRegexExtractor.extract_imp() missing 1 required positional argument: 'text'",
     "output_type": "error",
     "traceback": [
      "\u001b[0;31m---------------------------------------------------------------------------\u001b[0m",
      "\u001b[0;31mTypeError\u001b[0m                                 Traceback (most recent call last)",
      "Cell \u001b[0;32mIn[7], line 1\u001b[0m\n\u001b[0;32m----> 1\u001b[0m ext\u001b[38;5;241m.\u001b[39mextract_imp()\n",
      "\u001b[0;31mTypeError\u001b[0m: ReportRegexExtractor.extract_imp() missing 1 required positional argument: 'text'"
     ]
    }
   ],
   "source": [
    "ext.extract_imp()"
   ]
  }
 ],
 "metadata": {
  "kernelspec": {
   "display_name": "ds-env",
   "language": "python",
   "name": "python3"
  },
  "language_info": {
   "codemirror_mode": {
    "name": "ipython",
    "version": 3
   },
   "file_extension": ".py",
   "mimetype": "text/x-python",
   "name": "python",
   "nbconvert_exporter": "python",
   "pygments_lexer": "ipython3",
   "version": "3.12.2"
  }
 },
 "nbformat": 4,
 "nbformat_minor": 2
}
