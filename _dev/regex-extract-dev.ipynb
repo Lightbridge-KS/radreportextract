{
 "cells": [
  {
   "cell_type": "markdown",
   "metadata": {},
   "source": [
    "# Rads report regex extract"
   ]
  },
  {
   "cell_type": "code",
   "execution_count": 1,
   "metadata": {},
   "outputs": [],
   "source": [
    "from pyhere import here\n",
    "import sys\n",
    "import os\n",
    "import re\n",
    "import pandas as pd\n",
    "\n",
    "sys.path.append(os.path.abspath('..')) # adding the absolute path\n",
    "\n",
    "from radreportextract import ReportRegexExtractor"
   ]
  },
  {
   "cell_type": "code",
   "execution_count": 2,
   "metadata": {},
   "outputs": [],
   "source": [
    "ext = ReportRegexExtractor()"
   ]
  },
  {
   "cell_type": "code",
   "execution_count": 3,
   "metadata": {},
   "outputs": [],
   "source": [
    "report_ex_df = pd.read_pickle(here(\"data/report_ex_df.pkl\"))"
   ]
  },
  {
   "cell_type": "code",
   "execution_count": 4,
   "metadata": {},
   "outputs": [
    {
     "data": {
      "text/plain": [
       "[{'study_type': 'MRI OF THE BRAIN AND ORBITS',\n",
       "  'history': 'Known case IgG4 related ophthalmic disease--> work up MRI orbit for follow-up',\n",
       "  'impression': '- Again seen thin/almost absent left lacrimal gland \\n- Decreased size of right lacrimal gland \\n- Decreased size of the superior medial extraconal enhancing soft tissue of left orbit. \\n- Prominent enhancing soft tissues at bilateral infraorbital grooves/canals, pterygopalatine fossae, greater palatine canals, bilateral foramen rotundum (R>L), likely due to enlarged CN V2 and its branches; in keeping with known IgG4 related disease. \\n- Severe small vessel disease, not significantly changed. \\n- Few old tiny infarcts at left superior posterior cerebellar hemisphere \\n- A small DVA at left high parasagittal frontal lobe. \\n- Again seen superficial siderosis at left parieto-occipital sulci, suggestive of old SAH. \\n- No acute infarct, extraaxial collection, hydrocephalus or midline shift/brain herniation'},\n",
       " {'study_type': 'MRI OF THE BRAIN AND ORBITS',\n",
       "  'history': 'IgG4-ROD with lacrimal gland enlargement was sent to follow-up after treatment',\n",
       "  'impression': '1. Evidence of left lateral orbitotomy with post operative change as described. \\n2. Suggestive of recurrent disease seen as an enhancing lesion with restricted diffusion at left superolateral aspect of left orbit \\n3. No change of several non-specific white matter foci at bilateral frontoparietal lobes and the old microbleed at right parietal lobe. \\n4. Increased degree of mucosal thickening in all paranasal sinuses and multiple mucous retention cysts.'},\n",
       " {'study_type': 'MRI OF THE BRAIN AND ORBITS',\n",
       "  'history': '50-year-old female with history of mantle-cell lymphoma of bilateral lacrimal glands status post chemotherapy and has been in complete remission since 2017. The patient now presented with bilateral orbital swelling for 2 weeks. MRI of the brain and orbits was requested for evaluation.',\n",
       "  'impression': '1. Findings concerning for recurrent/relapsed lymphoma including: \\n- Interval increase in size of infiltrative enhancing lesions involving bilateral lacrimal glands and bilateral levator palpebrae superioris muscles causing enlargement of these structures. \\n- Increase in size of a few enhancing nodular lesions including at the superomedial extraconal space and retrobalbar region of the right orbit. \\n- Reappearance of crescentic enhancement along the inner wall of the posterior right globe. \\n- Increased infiltrative enhancing soft tissue at bilateral pterygopalatine fossae extending to bilateral retromaxillary antral fat and bilateral foramina rotundum. \\n- Increased infiltrative enhancing soft tissue in the subcutaneous tissue of both cheeks. \\n2. Interval increase in size of multiple bilateral cervical lymph nodes, retropharyngeal lymph nodes, as well as increased prominence of the adenoid tissue could represent reactive lymphoid hyperplasia or lymphomatous involvement. \\n3. Findings suggestive of bilateral optic neuropathy.'},\n",
       " {'study_type': 'MRI BRAIN AND ORBITS',\n",
       "  'history': 'Orbital mass',\n",
       "  'impression': '- Three enhancing masses with restricted diffusion at superomedial extraconal space of the right orbit, and superolateral and superomedial extraconal space of the right orbit. DDx are lymphoma and IgG4-related disease. \\n - An enhancing nodule without definite restricted diffusion at superficial lobe of the right parotid gland. DDx includes benign tumors such as benign mixed tumor and Warthin tumor as well as malignant tumors such as lymphoma and malignant salivary gland tumors.'}]"
      ]
     },
     "execution_count": 4,
     "metadata": {},
     "output_type": "execute_result"
    }
   ],
   "source": [
    "report_ex_df[\"content\"].map(ext.extract_hx_imp_dict).to_list()"
   ]
  },
  {
   "cell_type": "markdown",
   "metadata": {},
   "source": [
    "## Extract History"
   ]
  },
  {
   "cell_type": "code",
   "execution_count": 5,
   "metadata": {},
   "outputs": [
    {
     "name": "stdout",
     "output_type": "stream",
     "text": [
      "((history|indication).*?)(?=\\b(?:technique|comparison|finding|impression|$)|[\\n\\t]+)\n",
      "History: MALT lymphoma at the right orbit S/P chemotherapy was sent to follow-up.\n",
      "history: MALT lymphoma at the right orbit S/P chemotherapy was sent to follow-up.\n",
      "Indication: A 58-year-old man, known case of nasopharyngeal cancer (T4N2M1) with lung metastasis\n",
      "Indications: A 58-year-old man, known case of nasopharyngeal cancer (T4N2M1).\n",
      "No Match\n"
     ]
    }
   ],
   "source": [
    "text_hx_1 = \"\"\"\n",
    "MRI OF THE BRAIN AND ORBITS \n",
    "\n",
    "History: MALT lymphoma at the right orbit S/P chemotherapy was sent to follow-up. \n",
    "\n",
    "Technique: \n",
    "Sagittal SE T1W \n",
    "3D FSE FLAIR FS +Gd with MPR \n",
    "\n",
    "Comparison: Limited comparison to the MRI brain on 4-6-2022 \n",
    "\"\"\"\n",
    "\n",
    "# No Next Section KeyWord\n",
    "text_hx_2 = \"\"\"\n",
    "MRI OF THE BRAIN AND ORBITS \n",
    "\n",
    "history: MALT lymphoma at the right orbit S/P chemotherapy was sent to follow-up. \n",
    "\n",
    "Sagittal SE T1W \n",
    "\"\"\"\n",
    "\n",
    "# No Newline\n",
    "text_hx_3 = \"\"\"\n",
    "MDCT OF THE NECK   Indication: A 58-year-old man, known case of nasopharyngeal cancer (T4N2M1) with lung metastasis   Technique: Post contrast enhanced axial scan of the neck using 1.0 mm slice thickness with 3.0 mm axial, coronal and sagittal reformation   Comparison: The prior CT of the neck taken on October 4, 2015   Findings:  \tThe current study reveals slight shrinkage but no significant change in extension of the preexisting ill-defined hypodense lesion with partial mild enhancement in some portions, epicenter at the left-sided nasopharynx. Extension of the lesion is described as follow;  ... Superior: No interval change of extension into the left foramen Ovale and left inferior orbital fissure. No significant change of few enhancing foci in the left inferior temporal lobe.  ... Anterior: Involvement of the left infratemporal fossa, left PPF, left retroantral space, and left masticator space. Erosion and sclerotic change of the left pterygoid bone and posterior wall of the left maxillary sinus, unchanged.\n",
    "\"\"\"\n",
    "\n",
    "# No Newline and Next Section KeyWord\n",
    "text_hx_4 = \"\"\"\n",
    "Indications: A 58-year-old man, known case of nasopharyngeal cancer (T4N2M1).\n",
    "\"\"\"\n",
    "\n",
    "# No History or Indication\n",
    "text_hx_5 = \"\"\"\n",
    "A 58-year-old man, known case of nasopharyngeal cancer (T4N2M1).\n",
    "\"\"\"\n",
    "\n",
    "# No History or Indication with end pattern \n",
    "text_hx_6 = \"\"\"\n",
    "A 58-year-old man, known case of nasopharyngeal cancer (T4N2M1).\n",
    "\n",
    "technique:\n",
    "\"\"\"\n",
    "\n",
    "# No History or Indication with no end pattern \n",
    "text_hx_7 = \"\"\"Some key: A 58-year-old man, known case of nasopharyngeal cancer (T4N2M1).\"\"\"\n",
    "\n",
    "# This pattern ensures that it captures the \"History\" section and stops when it encounters another major section header or the end of the text.\n",
    "# `|[\\n\\t]+`: Fallback logic, if none of the section headers are found, the match will stop at one or more consecutive newlines or tab characters\n",
    "# pattern = r\"((history|indication).*?)(?=\\b(?:technique|findings|comparison|impression|$)|[\\n\\t]+)\"\n",
    "\n",
    "start_key = [\"history\", \"indication\"]\n",
    "end_key = [\"technique\", \"comparison\", \"finding\", \"impression\"]\n",
    "\n",
    "pattern = fr\"(({\"|\".join(start_key)}).*?)(?=\\b(?:{\"|\".join(end_key)}|$)|[\\n\\t]+)\"\n",
    "# pattern = r\"(^.*)(?=\\b(?:technique|findings|comparison|impression|$)|[\\n\\t]+)\"\n",
    "print(pattern)\n",
    "\n",
    "# Extract the \"History\" section\n",
    "\n",
    "## 1. Simple\n",
    "match = re.search(pattern, text_hx_1, re.DOTALL | re.IGNORECASE)\n",
    "print(match.group(0).strip())\n",
    "\n",
    "## 2. No Next Section KeyWord\n",
    "match = re.search(pattern, text_hx_2, re.DOTALL | re.IGNORECASE)\n",
    "print(match.group(0).strip())\n",
    "\n",
    "\n",
    "## 3. No Newline\n",
    "match = re.search(pattern, text_hx_3, re.DOTALL | re.IGNORECASE)\n",
    "print(match.group(0).strip())\n",
    "\n",
    "## 4. No Newline and Next Section KeyWord\n",
    "match = re.search(pattern, text_hx_4, re.DOTALL | re.IGNORECASE)\n",
    "print(match.group(0).strip())\n",
    "\n",
    "## 5. No Newline and Next Section KeyWord\n",
    "match = re.search(pattern, text_hx_5, re.DOTALL | re.IGNORECASE)\n",
    "if match:\n",
    "    print(match.group(0).strip())\n",
    "else:\n",
    "    print(\"No Match\")"
   ]
  },
  {
   "cell_type": "code",
   "execution_count": 6,
   "metadata": {},
   "outputs": [
    {
     "name": "stdout",
     "output_type": "stream",
     "text": [
      "['history', 'indication']\n",
      "['history', 'history', 'indication', 'indication', 'indication']\n"
     ]
    }
   ],
   "source": [
    "# Whole Word vs Regex\n",
    "\n",
    "match = re.findall(r\"\\b(history|indication)\\b\", \" history: historyclub indication indications indicationclub\", re.DOTALL | re.IGNORECASE)\n",
    "print(match)\n",
    "\n",
    "match = re.findall(r\"(history|indication)\", \" history: historyclub indication indications indicationclub\", re.DOTALL | re.IGNORECASE)\n",
    "print(match)"
   ]
  },
  {
   "cell_type": "code",
   "execution_count": 7,
   "metadata": {},
   "outputs": [
    {
     "data": {
      "text/plain": [
       "['A', 'B', 'As', 'Bs']"
      ]
     },
     "execution_count": 7,
     "metadata": {},
     "output_type": "execute_result"
    }
   ],
   "source": [
    "[\"A\", \"B\"] + [ x + \"s\" for x in [\"A\", \"B\"]]"
   ]
  },
  {
   "cell_type": "markdown",
   "metadata": {},
   "source": [
    "- `start_key`: \"history\" or \"indication\"\n",
    "- `end_key`: \"technique\", \"comparison\", \"finding\", \"impression\"\n",
    "- `end_char`: `\\n` or `\\t`\n",
    "\n",
    "1. If there is `start_key`, match the input text until found (which ever comes first) `end_key`, `end_char`, or the end of text string.\n",
    "2. If there is no `start_key`, match from the beginning of input text until found (which ever comes first) `end_key`, `end_char`, or the end of text string."
   ]
  },
  {
   "cell_type": "code",
   "execution_count": 8,
   "metadata": {},
   "outputs": [
    {
     "name": "stdout",
     "output_type": "stream",
     "text": [
      "History: MALT lymphoma at the right orbit S/P chemotherapy was sent to follow-up.\n",
      "history: MALT lymphoma at the right orbit S/P chemotherapy was sent to follow-up.\n",
      "Indication: A 58-year-old man, known case of nasopharyngeal cancer (T4N2M1) with lung metastasis\n",
      "Indications: A 58-year-old man, known case of nasopharyngeal cancer (T4N2M1).\n",
      "\n",
      "Non-Strick Mode\n",
      "A 58-year-old man, known case of nasopharyngeal cancer (T4N2M1)\n",
      "A 58-year-old man, known case of nasopharyngeal cancer (T4N2M1).\n",
      "Some key: A 58-year-old man, known case of nasopharyngeal cancer (T4N2M1)\n"
     ]
    }
   ],
   "source": [
    "print(ext.extract_hx(text_hx_1))\n",
    "print(ext.extract_hx(text_hx_2))\n",
    "print(ext.extract_hx(text_hx_3))\n",
    "print(ext.extract_hx(text_hx_4))\n",
    "\n",
    "# Strick Mode\n",
    "assert ext.extract_hx(text_hx_5) == \"\"\n",
    "assert ext.extract_hx(text_hx_6) == \"\"\n",
    "assert ext.extract_hx(text_hx_7) == \"\"\n",
    "\n",
    "\n",
    "# Non-Strick Mode\n",
    "print(\"\\nNon-Strick Mode\")\n",
    "print(ext.extract_hx(text_hx_5, strick = False))\n",
    "print(ext.extract_hx(text_hx_6, strick = False))\n",
    "print(ext.extract_hx(text_hx_7, strick = False))"
   ]
  },
  {
   "cell_type": "markdown",
   "metadata": {},
   "source": [
    "## Extract Impression"
   ]
  },
  {
   "cell_type": "markdown",
   "metadata": {},
   "source": []
  },
  {
   "cell_type": "code",
   "execution_count": 9,
   "metadata": {},
   "outputs": [
    {
     "ename": "TypeError",
     "evalue": "ReportRegexExtractor.extract_imp() missing 1 required positional argument: 'text'",
     "output_type": "error",
     "traceback": [
      "\u001b[0;31m---------------------------------------------------------------------------\u001b[0m",
      "\u001b[0;31mTypeError\u001b[0m                                 Traceback (most recent call last)",
      "Cell \u001b[0;32mIn[9], line 1\u001b[0m\n\u001b[0;32m----> 1\u001b[0m ext\u001b[38;5;241m.\u001b[39mextract_imp()\n",
      "\u001b[0;31mTypeError\u001b[0m: ReportRegexExtractor.extract_imp() missing 1 required positional argument: 'text'"
     ]
    }
   ],
   "source": [
    "ext.extract_imp()"
   ]
  },
  {
   "cell_type": "code",
   "execution_count": 46,
   "metadata": {},
   "outputs": [
    {
     "data": {
      "text/plain": [
       "'ssss'"
      ]
     },
     "execution_count": 46,
     "metadata": {},
     "output_type": "execute_result"
    }
   ],
   "source": [
    "match = re.search(r\"impression\\s*:?\\s*(.*)\", \"IMPRESSION:  ssss\", re.DOTALL | re.IGNORECASE)\n",
    "\n",
    "match.group(1)"
   ]
  }
 ],
 "metadata": {
  "kernelspec": {
   "display_name": "ds-env",
   "language": "python",
   "name": "python3"
  },
  "language_info": {
   "codemirror_mode": {
    "name": "ipython",
    "version": 3
   },
   "file_extension": ".py",
   "mimetype": "text/x-python",
   "name": "python",
   "nbconvert_exporter": "python",
   "pygments_lexer": "ipython3",
   "version": "3.12.2"
  }
 },
 "nbformat": 4,
 "nbformat_minor": 2
}
