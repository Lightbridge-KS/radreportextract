{
 "cells": [
  {
   "cell_type": "markdown",
   "metadata": {},
   "source": [
    "# Test Dev"
   ]
  },
  {
   "cell_type": "code",
   "execution_count": 22,
   "metadata": {},
   "outputs": [],
   "source": [
    "from pyhere import here\n",
    "import sys\n",
    "import os\n",
    "from dataclasses import dataclass, asdict\n",
    "sys.path.append(os.path.abspath('../test')) # adding the absolute path\n",
    "\n",
    "from test_report import test_report"
   ]
  },
  {
   "cell_type": "code",
   "execution_count": 4,
   "metadata": {},
   "outputs": [
    {
     "data": {
      "text/plain": [
       "{'MRI_Brain': {'study_hx_tech_comp': TestReport(report_text='\\nMRI OF THE BRAIN AND ORBITS \\n\\nHistory: MALT lymphoma at the right orbit S/P chemotherapy was sent to follow-up. \\n\\nTechnique: \\nSagittal SE T1W \\n3D FSE FLAIR FS +Gd with MPR \\n\\nComparison: Limited comparison to the MRI brain on 4-6-2022 \\n\\nFindings: \\nThere has been markedly decreased size of enhancing lesion at the right orbit, leaving small enhancing lesion at superior and medial intraconal space and superior rectus muscle, abutting right globe without invasion. Complete resolution of lesion at the left orbit.\\n\\nImpression:    \\n- Markedly decreased size of enhancing lesion at the right orbit, leaving small aenhancing lesion at superior and medial intraconal space and superior rectus muscle, abutting right globe without invasion. Findings are suspicion for residual tumor. \\n- Complete resolution of lesion at the left orbit\\n', truth_study_type='MRI OF THE BRAIN AND ORBITS', truth_hx_w_key='History: MALT lymphoma at the right orbit S/P chemotherapy was sent to follow-up.', truth_imp_w_key='\\nImpression:    \\n- Markedly decreased size of enhancing lesion at the right orbit, leaving small aenhancing lesion at superior and medial intraconal space and superior rectus muscle, abutting right globe without invasion. Findings are suspicion for residual tumor. \\n- Complete resolution of lesion at the left orbit\\n'),\n",
       "  'study_hx_newline': TestReport(report_text='\\nMRI OF THE BRAIN AND ORBITS \\n\\nHistory: MALT lymphoma at the right orbit S/P chemotherapy was sent to follow-up. \\n\\nSagittal SE T1W \\n', truth_study_type='MRI OF THE BRAIN AND ORBITS', truth_hx_w_key='History: MALT lymphoma at the right orbit S/P chemotherapy was sent to follow-up.', truth_imp_w_key=''),\n",
       "  'study_hx_tech_tab': TestReport(report_text='\\nMDCT OF THE NECK   Indication: A 58-year-old man, known case of nasopharyngeal cancer (T4N2M1) with lung metastasis   Technique: Post contrast enhanced axial scan of the neck using 1.0 mm slice thickness with 3.0 mm axial, coronal and sagittal reformation   Comparison: The prior CT of the neck taken on October 4, 2015   Findings:  \\tThe current study reveals slight shrinkage but no significant change in extension of the preexisting ill-defined hypodense lesion with partial mild enhancement in some portions, epicenter at the left-sided nasopharynx. Extension of the lesion is described as follow;  ... Superior: No interval change of extension into the left foramen Ovale and left inferior orbital fissure. No significant change of few enhancing foci in the left inferior temporal lobe.  ... Anterior: Involvement of the left infratemporal fossa, left PPF, left retroantral space, and left masticator space. Erosion and sclerotic change of the left pterygoid bone and posterior wall of the left maxillary sinus, unchanged.\\n', truth_study_type='MDCT OF THE NECK', truth_hx_w_key='Indication: A 58-year-old man, known case of nasopharyngeal cancer (T4N2M1) with lung metastasis', truth_imp_w_key=''),\n",
       "  'study_hx_tech_tab_nokey': TestReport(report_text='\\nIndications: A 58-year-old man, known case of nasopharyngeal cancer (T4N2M1).\\n', truth_study_type='MDCT OF THE NECK', truth_hx_w_key='Indications: A 58-year-old man, known case of nasopharyngeal cancer (T4N2M1).', truth_imp_w_key='')}}"
      ]
     },
     "execution_count": 4,
     "metadata": {},
     "output_type": "execute_result"
    }
   ],
   "source": [
    "test_report"
   ]
  },
  {
   "cell_type": "code",
   "execution_count": 9,
   "metadata": {},
   "outputs": [
    {
     "data": {
      "text/plain": [
       "['study_hx_tech_comp',\n",
       " 'study_hx_newline',\n",
       " 'study_hx_tech_tab',\n",
       " 'study_hx_tech_tab_nokey']"
      ]
     },
     "execution_count": 9,
     "metadata": {},
     "output_type": "execute_result"
    }
   ],
   "source": [
    "list(test_report[\"MRI_Brain\"].keys())"
   ]
  },
  {
   "cell_type": "code",
   "execution_count": 10,
   "metadata": {},
   "outputs": [
    {
     "data": {
      "text/plain": [
       "['History: MALT lymphoma at the right orbit S/P chemotherapy was sent to follow-up.',\n",
       " 'History: MALT lymphoma at the right orbit S/P chemotherapy was sent to follow-up.',\n",
       " 'Indication: A 58-year-old man, known case of nasopharyngeal cancer (T4N2M1) with lung metastasis',\n",
       " 'Indications: A 58-year-old man, known case of nasopharyngeal cancer (T4N2M1).']"
      ]
     },
     "execution_count": 10,
     "metadata": {},
     "output_type": "execute_result"
    }
   ],
   "source": [
    "[v.truth_hx_w_key for k, v in test_report[\"MRI_Brain\"].items()]"
   ]
  },
  {
   "cell_type": "code",
   "execution_count": 11,
   "metadata": {},
   "outputs": [
    {
     "data": {
      "text/plain": [
       "{'study_hx_tech_comp': 'History: MALT lymphoma at the right orbit S/P chemotherapy was sent to follow-up.',\n",
       " 'study_hx_newline': 'History: MALT lymphoma at the right orbit S/P chemotherapy was sent to follow-up.',\n",
       " 'study_hx_tech_tab': 'Indication: A 58-year-old man, known case of nasopharyngeal cancer (T4N2M1) with lung metastasis',\n",
       " 'study_hx_tech_tab_nokey': 'Indications: A 58-year-old man, known case of nasopharyngeal cancer (T4N2M1).'}"
      ]
     },
     "execution_count": 11,
     "metadata": {},
     "output_type": "execute_result"
    }
   ],
   "source": [
    "dict(zip(list(test_report[\"MRI_Brain\"].keys()), [v.truth_hx_w_key for k, v in test_report[\"MRI_Brain\"].items()]))"
   ]
  },
  {
   "cell_type": "code",
   "execution_count": 12,
   "metadata": {},
   "outputs": [
    {
     "data": {
      "text/plain": [
       "{'\\nMRI OF THE BRAIN AND ORBITS \\n\\nHistory: MALT lymphoma at the right orbit S/P chemotherapy was sent to follow-up. \\n\\nTechnique: \\nSagittal SE T1W \\n3D FSE FLAIR FS +Gd with MPR \\n\\nComparison: Limited comparison to the MRI brain on 4-6-2022 \\n\\nFindings: \\nThere has been markedly decreased size of enhancing lesion at the right orbit, leaving small enhancing lesion at superior and medial intraconal space and superior rectus muscle, abutting right globe without invasion. Complete resolution of lesion at the left orbit.\\n\\nImpression:    \\n- Markedly decreased size of enhancing lesion at the right orbit, leaving small aenhancing lesion at superior and medial intraconal space and superior rectus muscle, abutting right globe without invasion. Findings are suspicion for residual tumor. \\n- Complete resolution of lesion at the left orbit\\n': 'History: MALT lymphoma at the right orbit S/P chemotherapy was sent to follow-up.',\n",
       " '\\nMRI OF THE BRAIN AND ORBITS \\n\\nHistory: MALT lymphoma at the right orbit S/P chemotherapy was sent to follow-up. \\n\\nSagittal SE T1W \\n': 'History: MALT lymphoma at the right orbit S/P chemotherapy was sent to follow-up.',\n",
       " '\\nMDCT OF THE NECK   Indication: A 58-year-old man, known case of nasopharyngeal cancer (T4N2M1) with lung metastasis   Technique: Post contrast enhanced axial scan of the neck using 1.0 mm slice thickness with 3.0 mm axial, coronal and sagittal reformation   Comparison: The prior CT of the neck taken on October 4, 2015   Findings:  \\tThe current study reveals slight shrinkage but no significant change in extension of the preexisting ill-defined hypodense lesion with partial mild enhancement in some portions, epicenter at the left-sided nasopharynx. Extension of the lesion is described as follow;  ... Superior: No interval change of extension into the left foramen Ovale and left inferior orbital fissure. No significant change of few enhancing foci in the left inferior temporal lobe.  ... Anterior: Involvement of the left infratemporal fossa, left PPF, left retroantral space, and left masticator space. Erosion and sclerotic change of the left pterygoid bone and posterior wall of the left maxillary sinus, unchanged.\\n': 'Indication: A 58-year-old man, known case of nasopharyngeal cancer (T4N2M1) with lung metastasis',\n",
       " '\\nIndications: A 58-year-old man, known case of nasopharyngeal cancer (T4N2M1).\\n': 'Indications: A 58-year-old man, known case of nasopharyngeal cancer (T4N2M1).'}"
      ]
     },
     "execution_count": 12,
     "metadata": {},
     "output_type": "execute_result"
    }
   ],
   "source": []
  },
  {
   "cell_type": "code",
   "execution_count": 23,
   "metadata": {},
   "outputs": [
    {
     "data": {
      "text/plain": [
       "{'report_text': '\\nMRI OF THE BRAIN AND ORBITS \\n\\nHistory: MALT lymphoma at the right orbit S/P chemotherapy was sent to follow-up. \\n\\nTechnique: \\nSagittal SE T1W \\n3D FSE FLAIR FS +Gd with MPR \\n\\nComparison: Limited comparison to the MRI brain on 4-6-2022 \\n\\nFindings: \\nThere has been markedly decreased size of enhancing lesion at the right orbit, leaving small enhancing lesion at superior and medial intraconal space and superior rectus muscle, abutting right globe without invasion. Complete resolution of lesion at the left orbit.\\n\\nImpression:    \\n- Markedly decreased size of enhancing lesion at the right orbit, leaving small aenhancing lesion at superior and medial intraconal space and superior rectus muscle, abutting right globe without invasion. Findings are suspicion for residual tumor. \\n- Complete resolution of lesion at the left orbit\\n',\n",
       " 'truth_study_type': 'MRI OF THE BRAIN AND ORBITS',\n",
       " 'truth_hx_w_key': 'History: MALT lymphoma at the right orbit S/P chemotherapy was sent to follow-up.',\n",
       " 'truth_imp_w_key': '\\nImpression:    \\n- Markedly decreased size of enhancing lesion at the right orbit, leaving small aenhancing lesion at superior and medial intraconal space and superior rectus muscle, abutting right globe without invasion. Findings are suspicion for residual tumor. \\n- Complete resolution of lesion at the left orbit\\n'}"
      ]
     },
     "execution_count": 23,
     "metadata": {},
     "output_type": "execute_result"
    }
   ],
   "source": [
    "asdict(test_report[\"MRI_Brain\"][\"study_hx_tech_comp\"])"
   ]
  },
  {
   "cell_type": "code",
   "execution_count": 27,
   "metadata": {},
   "outputs": [
    {
     "data": {
      "text/plain": [
       "[('A', 'a', 'B', 'b')]"
      ]
     },
     "execution_count": 27,
     "metadata": {},
     "output_type": "execute_result"
    }
   ],
   "source": [
    "def dict_to_tuple_list(input_dict):\n",
    "    # Flatten the dictionary into a single tuple\n",
    "    flat_tuple = tuple(item for pair in input_dict.items() for item in pair)\n",
    "    # Wrap the tuple in a list\n",
    "    return [flat_tuple]\n",
    "\n",
    "dict_to_tuple_list({\"A\": \"a\", \"B\": \"b\"})"
   ]
  },
  {
   "cell_type": "code",
   "execution_count": 30,
   "metadata": {},
   "outputs": [
    {
     "data": {
      "text/plain": [
       "[('\\nMRI OF THE BRAIN AND ORBITS \\n\\nHistory: MALT lymphoma at the right orbit S/P chemotherapy was sent to follow-up. \\n\\nTechnique: \\nSagittal SE T1W \\n3D FSE FLAIR FS +Gd with MPR \\n\\nComparison: Limited comparison to the MRI brain on 4-6-2022 \\n\\nFindings: \\nThere has been markedly decreased size of enhancing lesion at the right orbit, leaving small enhancing lesion at superior and medial intraconal space and superior rectus muscle, abutting right globe without invasion. Complete resolution of lesion at the left orbit.\\n\\nImpression:    \\n- Markedly decreased size of enhancing lesion at the right orbit, leaving small aenhancing lesion at superior and medial intraconal space and superior rectus muscle, abutting right globe without invasion. Findings are suspicion for residual tumor. \\n- Complete resolution of lesion at the left orbit\\n',\n",
       "  'History: MALT lymphoma at the right orbit S/P chemotherapy was sent to follow-up.'),\n",
       " ('\\nMRI OF THE BRAIN AND ORBITS \\n\\nHistory: MALT lymphoma at the right orbit S/P chemotherapy was sent to follow-up. \\n\\nSagittal SE T1W \\n',\n",
       "  'History: MALT lymphoma at the right orbit S/P chemotherapy was sent to follow-up.'),\n",
       " ('\\nMDCT OF THE NECK   Indication: A 58-year-old man, known case of nasopharyngeal cancer (T4N2M1) with lung metastasis   Technique: Post contrast enhanced axial scan of the neck using 1.0 mm slice thickness with 3.0 mm axial, coronal and sagittal reformation   Comparison: The prior CT of the neck taken on October 4, 2015   Findings:  \\tThe current study reveals slight shrinkage but no significant change in extension of the preexisting ill-defined hypodense lesion with partial mild enhancement in some portions, epicenter at the left-sided nasopharynx. Extension of the lesion is described as follow;  ... Superior: No interval change of extension into the left foramen Ovale and left inferior orbital fissure. No significant change of few enhancing foci in the left inferior temporal lobe.  ... Anterior: Involvement of the left infratemporal fossa, left PPF, left retroantral space, and left masticator space. Erosion and sclerotic change of the left pterygoid bone and posterior wall of the left maxillary sinus, unchanged.\\n',\n",
       "  'Indication: A 58-year-old man, known case of nasopharyngeal cancer (T4N2M1) with lung metastasis'),\n",
       " ('\\nIndications: A 58-year-old man, known case of nasopharyngeal cancer (T4N2M1).\\n',\n",
       "  'Indications: A 58-year-old man, known case of nasopharyngeal cancer (T4N2M1).')]"
      ]
     },
     "execution_count": 30,
     "metadata": {},
     "output_type": "execute_result"
    }
   ],
   "source": [
    "def test_report_to_list_tuple(study: str, lhs, rhs):\n",
    "    \n",
    "    dict_k_v = dict(zip([asdict(v)[lhs] for k, v in test_report[study].items()],\n",
    "                        [asdict(v)[rhs] for k, v in test_report[study].items()]))\n",
    "    \n",
    "    return list(dict_k_v.items())\n",
    "\n",
    "test_report_to_list_tuple(\"MRI_Brain\", \"report_text\", \"truth_hx_w_key\")"
   ]
  },
  {
   "cell_type": "code",
   "execution_count": 24,
   "metadata": {},
   "outputs": [
    {
     "data": {
      "text/plain": [
       "[('\\nMRI OF THE BRAIN AND ORBITS \\n\\nHistory: MALT lymphoma at the right orbit S/P chemotherapy was sent to follow-up. \\n\\nTechnique: \\nSagittal SE T1W \\n3D FSE FLAIR FS +Gd with MPR \\n\\nComparison: Limited comparison to the MRI brain on 4-6-2022 \\n\\nFindings: \\nThere has been markedly decreased size of enhancing lesion at the right orbit, leaving small enhancing lesion at superior and medial intraconal space and superior rectus muscle, abutting right globe without invasion. Complete resolution of lesion at the left orbit.\\n\\nImpression:    \\n- Markedly decreased size of enhancing lesion at the right orbit, leaving small aenhancing lesion at superior and medial intraconal space and superior rectus muscle, abutting right globe without invasion. Findings are suspicion for residual tumor. \\n- Complete resolution of lesion at the left orbit\\n',\n",
       "  'History: MALT lymphoma at the right orbit S/P chemotherapy was sent to follow-up.',\n",
       "  '\\nMRI OF THE BRAIN AND ORBITS \\n\\nHistory: MALT lymphoma at the right orbit S/P chemotherapy was sent to follow-up. \\n\\nSagittal SE T1W \\n',\n",
       "  'History: MALT lymphoma at the right orbit S/P chemotherapy was sent to follow-up.',\n",
       "  '\\nMDCT OF THE NECK   Indication: A 58-year-old man, known case of nasopharyngeal cancer (T4N2M1) with lung metastasis   Technique: Post contrast enhanced axial scan of the neck using 1.0 mm slice thickness with 3.0 mm axial, coronal and sagittal reformation   Comparison: The prior CT of the neck taken on October 4, 2015   Findings:  \\tThe current study reveals slight shrinkage but no significant change in extension of the preexisting ill-defined hypodense lesion with partial mild enhancement in some portions, epicenter at the left-sided nasopharynx. Extension of the lesion is described as follow;  ... Superior: No interval change of extension into the left foramen Ovale and left inferior orbital fissure. No significant change of few enhancing foci in the left inferior temporal lobe.  ... Anterior: Involvement of the left infratemporal fossa, left PPF, left retroantral space, and left masticator space. Erosion and sclerotic change of the left pterygoid bone and posterior wall of the left maxillary sinus, unchanged.\\n',\n",
       "  'Indication: A 58-year-old man, known case of nasopharyngeal cancer (T4N2M1) with lung metastasis',\n",
       "  '\\nIndications: A 58-year-old man, known case of nasopharyngeal cancer (T4N2M1).\\n',\n",
       "  'Indications: A 58-year-old man, known case of nasopharyngeal cancer (T4N2M1).')]"
      ]
     },
     "execution_count": 24,
     "metadata": {},
     "output_type": "execute_result"
    }
   ],
   "source": [
    "dict_text_hx_w_key = dict(zip([v.report_text for k, v in test_report[\"MRI_Brain\"].items()],\n",
    "                              [v.truth_hx_w_key for k, v in test_report[\"MRI_Brain\"].items()]))\n",
    "\n",
    "\n",
    "dict_to_tuple_list(dict_text_hx_w_key)"
   ]
  }
 ],
 "metadata": {
  "kernelspec": {
   "display_name": "ds-env",
   "language": "python",
   "name": "python3"
  },
  "language_info": {
   "codemirror_mode": {
    "name": "ipython",
    "version": 3
   },
   "file_extension": ".py",
   "mimetype": "text/x-python",
   "name": "python",
   "nbconvert_exporter": "python",
   "pygments_lexer": "ipython3",
   "version": "3.12.2"
  }
 },
 "nbformat": 4,
 "nbformat_minor": 2
}
